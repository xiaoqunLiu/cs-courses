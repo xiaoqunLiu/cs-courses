{
 "cells": [
  {
   "cell_type": "markdown",
   "id": "d74e4c9d",
   "metadata": {},
   "source": [
    "## Solve maze\n",
    "\n",
    "You are given a map that 'W' represents a wall, 'E' represents an empty space, 'S' represents starting point, 'G' represents final goal.\n",
    "\n",
    "Write some code to determine whether you can start from 'S' and eventually read 'G'."
   ]
  },
  {
   "cell_type": "markdown",
   "id": "06c758ce",
   "metadata": {},
   "source": [
    "\n",
    "### Input:\n",
    "\n",
    "SWEEG<br>\n",
    "EWWWE<br>\n",
    "EWWWE<br>\n",
    "EEEEE<br>\n",
    "\n",
    "### Output:\n",
    "\n",
    "Yes\n",
    "\n",
    "### Input:\n",
    "\n",
    "SWEEG<br>\n",
    "EWWWE<br>\n",
    "EWWWE<br>\n",
    "EWEEE<br>\n",
    "\n",
    "### Output:\n",
    "\n",
    "No\n"
   ]
  },
  {
   "cell_type": "code",
   "execution_count": 1,
   "id": "b8e78436",
   "metadata": {},
   "outputs": [
    {
     "data": {
      "text/plain": [
       "[1, 2]"
      ]
     },
     "execution_count": 1,
     "metadata": {},
     "output_type": "execute_result"
    }
   ],
   "source": [
    "stack = [1]\n",
    "stack+=[2]\n",
    "stack"
   ]
  },
  {
   "cell_type": "code",
   "execution_count": 1,
   "id": "78186adf",
   "metadata": {},
   "outputs": [
    {
     "ename": "NameError",
     "evalue": "name 'S' is not defined",
     "output_type": "error",
     "traceback": [
      "\u001b[1;31m---------------------------------------------------------------------------\u001b[0m",
      "\u001b[1;31mNameError\u001b[0m                                 Traceback (most recent call last)",
      "\u001b[1;32md:\\My_university\\temp\\CS405ML\\lab\\Lab01\\practice.ipynb 单元格 4\u001b[0m line \u001b[0;36m1\n\u001b[1;32m----> <a href='vscode-notebook-cell:/d%3A/My_university/temp/CS405ML/lab/Lab01/practice.ipynb#W3sZmlsZQ%3D%3D?line=0'>1</a>\u001b[0m matrix \u001b[39m=\u001b[39m [[S,W,E,E,G], [E,W,W,W,E], [E,W,W,W,E], [E,W,E,E,E]]\n\u001b[0;32m      <a href='vscode-notebook-cell:/d%3A/My_university/temp/CS405ML/lab/Lab01/practice.ipynb#W3sZmlsZQ%3D%3D?line=1'>2</a>\u001b[0m stack \u001b[39m=\u001b[39m [matrix[\u001b[39m0\u001b[39m][\u001b[39m0\u001b[39m]]\n\u001b[0;32m      <a href='vscode-notebook-cell:/d%3A/My_university/temp/CS405ML/lab/Lab01/practice.ipynb#W3sZmlsZQ%3D%3D?line=2'>3</a>\u001b[0m front \u001b[39m=\u001b[39m \u001b[39m0\u001b[39m\n",
      "\u001b[1;31mNameError\u001b[0m: name 'S' is not defined"
     ]
    }
   ],
   "source": [
    "matrix = [[S,W,E,E,G], [E,W,W,W,E], [E,W,W,W,E], [E,W,E,E,E]]\n",
    "stack = [matrix[0][0]]\n",
    "front = 0\n",
    "back = 1\n",
    "while front < back:\n",
    "    if stack[front] == 'E':\n",
    "        stack+=[matrix[front][back]]\n",
    "        back+=1\n",
    "    elif stack[front] == 'W':\n",
    "        front+=1\n",
    "    elif stack[front] == 'G':\n",
    "        print('Found the gold!')\n",
    "        break"
   ]
  }
 ],
 "metadata": {
  "kernelspec": {
   "display_name": "Python 3 (ipykernel)",
   "language": "python",
   "name": "python3"
  },
  "language_info": {
   "codemirror_mode": {
    "name": "ipython",
    "version": 3
   },
   "file_extension": ".py",
   "mimetype": "text/x-python",
   "name": "python",
   "nbconvert_exporter": "python",
   "pygments_lexer": "ipython3",
   "version": "3.9.17"
  }
 },
 "nbformat": 4,
 "nbformat_minor": 5
}
