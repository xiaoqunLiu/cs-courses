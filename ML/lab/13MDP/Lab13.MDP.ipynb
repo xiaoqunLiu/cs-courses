{
 "cells": [
  {
   "cell_type": "markdown",
   "metadata": {
    "toc": true
   },
   "source": [
    "<h1>Table of Contents<span class=\"tocSkip\"></span></h1>\n",
    "<div class=\"toc\"><ul class=\"toc-item\"><li><span><a href=\"#Objective\" data-toc-modified-id=\"Objective-1\"><span class=\"toc-item-num\">1&nbsp;&nbsp;</span>Objective</a></span></li><li><span><a href=\"#Introduction\" data-toc-modified-id=\"Introduction-2\"><span class=\"toc-item-num\">2&nbsp;&nbsp;</span>Introduction</a></span></li><li><span><a href=\"#Markov-Decision-Process\" data-toc-modified-id=\"Markov-Decision-Process-3\"><span class=\"toc-item-num\">3&nbsp;&nbsp;</span>Markov Decision Process</a></span><ul class=\"toc-item\"><li><span><a href=\"#Mathematical-representation-of-policy\" data-toc-modified-id=\"Mathematical-representation-of-policy-3.1\"><span class=\"toc-item-num\">3.1&nbsp;&nbsp;</span>Mathematical representation of policy</a></span></li><li><span><a href=\"#The-Discounted-Returns\" data-toc-modified-id=\"The-Discounted-Returns-3.2\"><span class=\"toc-item-num\">3.2&nbsp;&nbsp;</span>The Discounted Returns</a></span></li><li><span><a href=\"#Value-Function\" data-toc-modified-id=\"Value-Function-3.3\"><span class=\"toc-item-num\">3.3&nbsp;&nbsp;</span>Value Function</a></span><ul class=\"toc-item\"><li><span><a href=\"#The--state-value-function:\" data-toc-modified-id=\"The--state-value-function:-3.3.1\"><span class=\"toc-item-num\">3.3.1&nbsp;&nbsp;</span>The  state value function:</a></span></li><li><span><a href=\"#The-Action-Value-Function\" data-toc-modified-id=\"The-Action-Value-Function-3.3.2\"><span class=\"toc-item-num\">3.3.2&nbsp;&nbsp;</span>The Action Value Function</a></span></li><li><span><a href=\"#The-relationship-between-the-two-value-function\" data-toc-modified-id=\"The-relationship-between-the-two-value-function-3.3.3\"><span class=\"toc-item-num\">3.3.3&nbsp;&nbsp;</span>The relationship between the two value function</a></span></li></ul></li></ul></li><li><span><a href=\"#Policy-Iteration\" data-toc-modified-id=\"Policy-Iteration-4\"><span class=\"toc-item-num\">4&nbsp;&nbsp;</span>Policy Iteration</a></span></li><li><span><a href=\"#Value-Iteration\" data-toc-modified-id=\"Value-Iteration-5\"><span class=\"toc-item-num\">5&nbsp;&nbsp;</span>Value Iteration</a></span></li><li><span><a href=\"#Policy-Iteration-vs.-Value-Iteration\" data-toc-modified-id=\"Policy-Iteration-vs.-Value-Iteration-6\"><span class=\"toc-item-num\">6&nbsp;&nbsp;</span>Policy Iteration vs. Value Iteration</a></span></li><li><span><a href=\"#LAB-Assignment\" data-toc-modified-id=\"LAB-Assignment-7\"><span class=\"toc-item-num\">7&nbsp;&nbsp;</span>LAB Assignment</a></span><ul class=\"toc-item\"><li><span><a href=\"#Exercise-(100-Points)\" data-toc-modified-id=\"Exercise-(100-Points)-7.1\"><span class=\"toc-item-num\">7.1&nbsp;&nbsp;</span>Exercise (100 Points)</a></span><ul class=\"toc-item\"><li><span><a href=\"#Environment-Data\" data-toc-modified-id=\"Environment-Data-7.1.1\"><span class=\"toc-item-num\">7.1.1&nbsp;&nbsp;</span>Environment Data</a></span></li><li><span><a href=\"#Display\" data-toc-modified-id=\"Display-7.1.2\"><span class=\"toc-item-num\">7.1.2&nbsp;&nbsp;</span>Display</a></span></li><li><span><a href=\"#Implementation-code\" data-toc-modified-id=\"Implementation-code-7.1.3\"><span class=\"toc-item-num\">7.1.3&nbsp;&nbsp;</span>Implementation code</a></span><ul class=\"toc-item\"><li><span><a href=\"#Initialize-$\\mathcal{S}$,-$\\mathcal{A}$,-$\\mathcal{R}$,-$\\mathcal{P}$\" data-toc-modified-id=\"Initialize-$\\mathcal{S}$,-$\\mathcal{A}$,-$\\mathcal{R}$,-$\\mathcal{P}$-7.1.3.1\"><span class=\"toc-item-num\">7.1.3.1&nbsp;&nbsp;</span>Initialize $\\mathcal{S}$, $\\mathcal{A}$, $\\mathcal{R}$, $\\mathcal{P}$</a></span></li><li><span><a href=\"#Optimization-Approach\" data-toc-modified-id=\"Optimization-Approach-7.1.3.2\"><span class=\"toc-item-num\">7.1.3.2&nbsp;&nbsp;</span>Optimization Approach</a></span></li></ul></li><li><span><a href=\"#Display\" data-toc-modified-id=\"Display-7.1.4\"><span class=\"toc-item-num\">7.1.4&nbsp;&nbsp;</span>Display</a></span></li></ul></li></ul></li></ul></div>"
   ]
  },
  {
   "cell_type": "markdown",
   "metadata": {},
   "source": [
    "# LAB13 tutorial for Machine Learning <br > Markov Decision Process\n",
    "> The document description are designed by JIa Yanhong in 2022. Nov. 22th\n",
    "------"
   ]
  },
  {
   "cell_type": "markdown",
   "metadata": {},
   "source": [
    "## Objective\n",
    "\n",
    "- Understand the theory of Markov Decision Process\n",
    "- Implement the Value Iteration or Policy Iteration  in python\n",
    "- Complete the LAB assignment.\n",
    "\n",
    "------"
   ]
  },
  {
   "cell_type": "markdown",
   "metadata": {},
   "source": [
    "## Introduction\n",
    "In RL, we build an agent that can **make smart decisions**. For instance, an agent that **learns to play a video game.** Or a trading agent that **learns to maximize its benefits** by making smart decisions on **what stocks to buy and when to sell.**\n",
    "\n",
    "<div  align=\"center\"> <img src=\"images/30519mdp.png\" alt=\"reinforcement learning markov \" width=600 align=center /></div>\n",
    "\n",
    "But, to make intelligent decisions, our agent will learn from the environment by **interacting with it through trial and error** and receiving rewards (positive or negative) **as unique feedback.**\n",
    "\n",
    "Its goal **is to maximize its expected cumulative reward** (because of the reward hypothesis).\n",
    "\n",
    "**The agent's decision-making process is called the policy π:** given a state, a policy will output an action or a probability distribution over actions. That is, given an observation of the environment, a policy will provide an action (or multiple probabilities for each action) that the agent should take.\n",
    "\n",
    "<div  align=\"center\"><img src=\"images/policy.jpg\" alt=\"Policy \" width=600 /></div>\n",
    "\n",
    "**Our goal is to find an optimal policy $\\pi$, a policy that leads to the best expected cumulative reward.**\n",
    "\n"
   ]
  },
  {
   "cell_type": "markdown",
   "metadata": {},
   "source": [
    "\n",
    "\n",
    "\n",
    "\n",
    "<big>So our root question for this lab is how we formulate any problem in RL mathematically</big> ,This is where the <big>Markov Decision Process</big>(MDP) comes in.\n",
    "\n",
    "Markov Decision Process (MDP) is a mathematical framework to describe an environment in reinforcement learning. "
   ]
  },
  {
   "cell_type": "markdown",
   "metadata": {},
   "source": [
    "## Markov Decision Process\n",
    "**Markov Decision Process (MDP)** consists of a tuple of 5 elements $<\\mathcal{S}, \\mathcal{A}, \\mathcal{P},\\mathcal{R},\\gamma>$\n",
    "\n",
    "- $\\mathcal{S}$: set of states $\\to$  At each time step, state of the environment is an element $s \\in \\mathcal{S}$. \n",
    "\n",
    "- $\\mathcal{A}$: set of actions $\\to$ At each time step, agent takes an action $a \\in \\mathcal{A}$.\n",
    "\n",
    "- $\\mathcal{P}$: state transition model (matrix)\n",
    "  $$\n",
    "  \\mathcal{P}_{x\\to x'}^a = P[S_{t+1}|S_t=s,A_t=a]\n",
    "  $$\n",
    "  Probability of transition to next state $x'$ after taking action $a$ in current state $x$.\n",
    "\n",
    "- $\\mathcal{R}$: reward model (matrix) \n",
    "  $$\n",
    "  \\mathcal{R}_{s}^{a} = E[R_{t+1}|S_t=s,A_t=a]\n",
    "  $$\n",
    "  Reward obtained after taking action $a$ in current state $x$. (to be more general,  $\\mathcal{R}_{x\\to x'}^{a} = E[R_{t+1}|S_t=s,A_t=a, S_{t+1}=s']$ )\n",
    "\n",
    "- $\\gamma$: discount factor $\\to$ Control the importance of future rewards.\n",
    "\n",
    "The goal is to find  an  optimal  policy $\\pi$ maximizing a cumulative function of the random rewards."
   ]
  },
  {
   "cell_type": "markdown",
   "metadata": {},
   "source": [
    "### Mathematical representation of policy\n",
    "\n",
    "Policy is the agent’s behavior, it is a mapping from states to actions.\n",
    "Given a state, a policy will output an action or a probability distribution over actions. \n",
    "A policy is defined as follows :\n",
    "\n",
    "- Deterministic policy: \n",
    "\n",
    "$$\n",
    "a=\\pi (s)\n",
    "$$\n",
    "\n",
    "\n",
    "\n",
    "- Stochastic policy: \n",
    "\n",
    "$$\n",
    "\\pi (a|s)=P(A_{t}=a|S_{t}=s)\n",
    "$$\n",
    "\n",
    "### The Discounted Returns\n",
    "\n",
    "The total discounted reward for a state from  time-step t:\n",
    "$$\n",
    "G_{t}(s) =R_{t+1} + \\gamma R_{t+2} + \\gamma ^{2}R_{t+3} +...=\\sum_{\\infty }^{k=0}\\gamma ^{k}R_{t+k+1}\n",
    "$$\n",
    "Rewards are temporary. Even after picking an action that gives a decent reward, we might be missing on a greater total reward in the long-run. This long-term total reward is the Return. However, in practice, we consider discounted Returns.\n",
    "\n",
    "### Value Function\n",
    "\n",
    "A value function is the long-term value of a state or an action. In other words, it’s the expected Return over a state or an action. This is something that we are actually interested in optimizing.\n",
    "\n",
    "#### The  state value function:\n",
    "\n",
    "$$\n",
    "V_{\\pi }(s) =E_{\\pi }(G_{t}(s)|S_{t} = s)= E_{\\pi}(R_{t+1} + \\gamma R_{t+2} + \\gamma ^{2}R_{t+3} +...|S_{t} = s)=E_{\\pi}(R_{t+1} + \\gamma V_{\\pi }(s_{t+1}) |S_{t} = s)\n",
    "$$\n",
    "\n",
    "\n",
    "\n",
    "#### The Action Value Function\n",
    "\n",
    "$$\n",
    "q_{\\pi }(s,a) =E_{\\pi }(G_{t}(s)|S_{t} = s,A_{t}=a)= E_{\\pi}(R_{t+1} + \\gamma R_{t+2} + \\gamma ^{2}R_{t+3} +...|S_{t} = s,A_{t}=a)=E_{\\pi}(R_{t+1} + \\gamma q_{\\pi }(s_{t+1},A_{t+1}) |S_{t} = s,A_{t}=a)\n",
    "$$\n",
    "\n",
    "#### The relationship between the two value function\n",
    "$$\n",
    "\\begin{aligned}\n",
    "&V_{\\pi }(s) =\\sum_{a}\\pi (a|s)q_{\\pi }(s,a) =\\sum_{a}\\pi (a|s)\\sum _{s',r'}p(s', r|s,a)[r+\\gamma V(s')]\n",
    "\\\\\n",
    "&q_{\\pi }(s,a) = \\sum _{s',r'}p(s', r|s,a)[r+\\gamma V(s')]\n",
    "\\end{aligned}\n",
    "$$\n",
    "<div  align=\"center\"><img src=\"images/image-20221123091130625.png\" alt=\"image-20221123091130625 \" style=\"zoom:70%;\" /></div>\n",
    "\n",
    "\n",
    "\n",
    "Given an MDP environment, we can use **dynamic programming algorithms** to compute optimal policies, which lead to the highest possible sum of future rewards at each state.\n",
    "\n",
    "Dynamic programming algorithms work on the assumption that we have a perfect model of the environment’s MDP. So, we’re able to use a one-step look-ahead approach and compute rewards for all possible actions.\n",
    "\n",
    "In this tutorial, we’ll discuss how to find an optimal policy $\\pi$ for a given MDP. More specifically, **we’ll learn about two dynamic programming algorithms:  policy iteration and value iteration  .** "
   ]
  },
  {
   "cell_type": "markdown",
   "metadata": {},
   "source": [
    "## Policy Iteration\n",
    "\n",
    "**In policy iteration, we start by choosing an arbitrary policy $\\boldsymbol{\\pi}$. Then, we iteratively evaluate and improve the policy until convergence:**\n",
    "\n",
    "<div  align=\"center\"><img src=\"images/policy-vs-value-iteration-policy-1.png\" alt=\"policy vs value iteration policy 1 \" style=\"zoom:150%;\" /></div>\n",
    "\n",
    "We evaluate a policy $\\pi(s)$ by calculating the state value function $V(s)$:\n",
    "\n",
    " $$V_{\\pi }(s) = \\sum_{a}\\pi (a|s)\\sum _{s',r'}p(s', r|s,a)[r+\\gamma V(s')]$$\n",
    "\n",
    "Then, we calculate the improved policy by using one-step look-ahead to replace the initial policy $\\pi(s)$:\n",
    "\n",
    " $$\\pi(s) = arg\\max_{a} \\sum _{s',r'}p(s', r|s,a)[r+\\gamma V(s')]$$\n",
    "\n",
    "Here, $r$ is the reward generated by taking the action $a,$ $\\gamma$ is a discount factor for future rewards and $p$ is the transition probability.\n",
    "\n",
    "In the beginning, we don’t care about the initial policy $\\pi_0$ being optimal or not. During the execution, we concentrate on improving it on every iteration by repeating policy evaluation and policy improvement steps. Using this algorithm we produce a chain of policies, where each policy is an improvement over the previous one: $\\pi_0 \\xrightarrow[]{\\text{E}} v_{\\pi_0} \\xrightarrow[]{\\text{I}} \\pi_1 \\xrightarrow[]{\\text{E}} v_{\\pi_1} \\xrightarrow[]{\\text{I}} \\pi_2 \\xrightarrow[]{\\text{E}} \\dotsi \\xrightarrow[]{\\text{I}} \\pi_* \\xrightarrow[]{\\text{E}} v_{*} $\n",
    "\n",
    "\n",
    "<div  align=\"center\">\n",
    "    <img src=\"images/quicklatex.com-7996700c6b0398334741dd5d99ada04f_l3.svg\" alt=\"Rendered by QuickLaTeX.com \" width=500 />\n",
    "</div>\n",
    "\n",
    "Since a finite MDP has a finite number of policies, the defined process is finite. In the end, converging an optimal policy $\\pi_*$ and an optimal value function $v_*$ is guaranteed."
   ]
  },
  {
   "cell_type": "markdown",
   "metadata": {},
   "source": [
    "##  Value Iteration\n",
    "\n",
    "**In value iteration, we compute the optimal state value function by iteratively updating the estimate $\\textbf{v(s)}$:**\n",
    "\n",
    "<div  align=\"center\"><img src=\"images/policy-vs-value-iteration-value-1.png\" alt=\"policy vs value iteration value 1 \" style=\"zoom:150%;\" /></div>\n",
    "\n",
    "\n",
    "\n",
    "The  optimal state value function $V_{*}(s)$  is the maximum value function over all policies:\n",
    "\n",
    "<div  align=\"center\"><img src=\"images/image-20221123092346377.png\" alt=\"image-20221123092346377 \" style=\"zoom:50%;\" /></div>\n",
    "\n",
    "The  optimal state value function $q_{*}(s,a)$  is the maximum action value function over all policies:\n",
    "\n",
    "<div  align=\"center\"><img src=\"images/image-20221123092632249.png\" alt=\"image-20221123092632249 \" style=\"zoom:50%;\" /></div>\n",
    "\n",
    "An optimal policy can be found by maximising over $q_{*}(s,a)$ :\n",
    "\n",
    "<div  align=\"center\"><img src=\"images/image-20221123092730888.png\" alt=\"image-20221123092730888 \" style=\"zoom:50%;\" /></div>\n",
    "\n",
    "\n",
    "\n",
    "We start with a random value function ![V(s)](images/quicklatex.com-b04898eb2ba64775d4726571566b0f80_l3-166910049252419.svg). At each step, we update it:\n",
    "\n",
    "$$V(s) = \\max_{a} \\sum_{s',r'}p(s', r|s,a)[r+\\gamma V(s')]$$\n",
    "\n",
    "Hence, we look-ahead one step and go over all possible actions at each iteration to find the maximum:\n",
    "\n",
    "\n",
    "<div  align=\"center\"><img src=\"images/quicklatex.com-c3ce8715b3d71e344a55011bddc16f20_l3.svg\" alt=\"Rendered by QuickLaTeX.com \" style=\"zoom:125%;\" /></div>\n",
    "\n",
    "The update step is very similar to the update step in the policy iteration algorithm. The only difference is that we take the maximum over all possible actions in the value iteration algorithm.\n",
    "\n",
    "Instead of evaluating and then improving, the value iteration algorithm updates the state value function in a single step. This is possible by calculating all possible rewards by looking ahead.\n",
    "\n",
    "The value iteration algorithm is guaranteed to converge to the optimal values."
   ]
  },
  {
   "cell_type": "markdown",
   "metadata": {},
   "source": [
    "##  Policy Iteration vs. Value Iteration\n",
    "\n",
    "**Policy iteration and value iteration are both dynamic programming algorithms that find an optimal policy $\\boldsymbol{\\pi_*}$ in a reinforcement learning environment.** They both employ variations of Bellman updates and exploit one-step look-ahead:\n",
    "\n",
    "\n",
    "<div  align=\"center\"><img src=\"images/quicklatex.com-e006cee9ed0654d81378c599ddacce15_l3.svg\" alt=\"Rendered by QuickLaTeX.com\" style=\"zoom:100%;\" /></div>\n",
    "**In policy iteration, we start with a fixed policy. Conversely, in value iteration, we begin by selecting the value function.** Then, in both algorithms, we iteratively improve until we reach convergence.\n",
    "\n",
    "The policy iteration algorithm updates the policy. The value iteration algorithm iterates over the value function instead. Still, both algorithms implicitly update the policy and state value function in each iteration.\n",
    "\n",
    "In each iteration, the policy iteration function goes through two phases. One phase evaluates the policy, and the other one improves it. The value iteration function covers these two phases by taking a maximum over the utility function for all possible actions.\n",
    "\n",
    "The value iteration algorithm is straightforward. It combines two phases of the policy iteration into a single update operation. However, the value iteration function runs through all possible actions at once to find the maximum action value. Subsequently, the value iteration algorithm is computationally heavier.\n",
    "\n",
    "**Both algorithms are guaranteed to converge to an optimal policy in the end. Yet, the policy iteration algorithm converges within fewer iterations. As a result, the policy iteration is reported to conclude faster than the value iteration algorithm.**"
   ]
  },
  {
   "cell_type": "markdown",
   "metadata": {},
   "source": [
    "## LAB Assignment\n",
    "Please finish the **Exercise** and answer **Questions**.\n",
    "### Exercise (100 Points)\n",
    "In this lab, we are about to find a shortest path with collision avoidance using MDP. We will model the problem as a MDP problem and use **value iteration** or **policy iteration** algorithm to solve it.\n",
    "\n",
    "#### Environment Data\n",
    "\n",
    "- Environment: `map_matrix.npy` has environment data. You need to use `numpy` to load  it.\n",
    "  - <font color=black>White block</font>: an agent, for example, a robot\n",
    "  - <font color=red>Red block</font>: destination\n",
    "  - <font color=green>Green block</font>: obstacle\n",
    "\n",
    "\n",
    "![image-20220809121750229](images/image-20220809121750229.png)\n",
    "\n",
    "- $\\mathscr{R}$ Reward: reward is implemented in code and it only concerns the next state:\n",
    "  - wall: $-1$\n",
    "  - destination: 0\n",
    "  - else: $-0.1$\n",
    "- $\\mathscr{P}$ State transformation: next state is deterministic when taking an action under a certain state.\n",
    "- $\\pi$ Initial policy: each direction (up, right, bottom, left) has equal probability.\n",
    "\n",
    "#### Display\n",
    "\n",
    "We have several methods for you to display policy, state value and path on map\n",
    "\n",
    "```python\n",
    "def display_policy()\n",
    "def display_v()\n",
    "def display_path()\n",
    "```\n",
    "\n"
   ]
  },
  {
   "cell_type": "markdown",
   "metadata": {
    "pycharm": {
     "name": "#%% md\n"
    }
   },
   "source": [
    "#### Implementation code\n",
    "##### Initialize $\\mathcal{S}$, $\\mathcal{A}$, $\\mathcal{R}$, $\\mathcal{P}$"
   ]
  },
  {
   "cell_type": "code",
   "execution_count": 1,
   "metadata": {},
   "outputs": [],
   "source": [
    "import numpy as np\n",
    "import pandas as pd\n",
    "import time\n",
    "import matplotlib.pyplot as plt"
   ]
  },
  {
   "cell_type": "code",
   "execution_count": 2,
   "metadata": {},
   "outputs": [
    {
     "name": "stderr",
     "output_type": "stream",
     "text": [
      "Clipping input data to the valid range for imshow with RGB data ([0..1] for floats or [0..255] for integers).\n"
     ]
    },
    {
     "data": {
      "image/png": "[encoded data removed]",
      "text/plain": [
       "<Figure size 640x480 with 1 Axes>"
      ]
     },
     "metadata": {},
     "output_type": "display_data"
    }
   ],
   "source": [
    "map_matrix = np.load(\"map_matrix.npy\")\n",
    "plt.imshow(map_matrix)\n",
    "plt.show()"
   ]
  },
  {
   "cell_type": "code",
   "execution_count": 3,
   "metadata": {},
   "outputs": [],
   "source": [
    "MAX_Y = map_matrix.shape[0]\n",
    "MAX_X = map_matrix.shape[1]\n",
    "noS = MAX_Y * MAX_X\n",
    "noA = 4"
   ]
  },
  {
   "cell_type": "code",
   "execution_count": 4,
   "metadata": {
    "tags": []
   },
   "outputs": [
    {
     "name": "stdout",
     "output_type": "stream",
     "text": [
      "--> State of walls: [44, 45, 46, 47, 48, 49, 109, 123, 129, 135, 136, 137, 138, 139, 143, 149, 163, 164, 165, 166, 167, 168, 169, 183, 189, 203, 209, 223, 229, 243, 249, 263, 269, 280, 281, 282, 283, 289, 309, 310, 311, 312]\n",
      "--> State of destination: [315, 316, 335, 336]\n",
      "--> Number of states in grid: 400\n",
      "--> Number of action options in each state:4\n",
      "--> Transition probabilities matrix(prob, next_state, reward, is_done)：\n",
      "{0: (1.0, 0, -0.1, False), 1: (1.0, 1, -0.1, False), 2: (1.0, 20, -0.1, False), 3: (1.0, 0, -0.1, False)}\n"
     ]
    }
   ],
   "source": [
    "# A, defining action variables\n",
    "UP = 0\n",
    "RIGHT = 1\n",
    "DOWN = 2\n",
    "LEFT = 3\n",
    "\n",
    "# S, a sequence of number rather than coordinates\n",
    "S = range(noS)\n",
    "\n",
    "# reward\n",
    "reward_blank = -0.1  #for every step -1 in other states\n",
    "reward_wall = -1  # for wall\n",
    "reward_goal = 0  # for destination\n",
    "wall = []\n",
    "goal = []\n",
    "start = None\n",
    "for y in range(MAX_Y):\n",
    "    for x in range(MAX_X):\n",
    "        if list(map_matrix[y][x]) == [0., 30., 0.]:\n",
    "            wall.append(y * MAX_X + x)\n",
    "        elif list(map_matrix[y][x]) == [255., 0., 0.]:\n",
    "            goal.append(y * MAX_X + x)\n",
    "        elif list(map_matrix[y][x]) == [255., 255., 255.]:\n",
    "            start = (y, x)\n",
    "print(\"--> State of walls:\", wall)\n",
    "print(\"--> State of destination:\", goal)\n",
    "\n",
    "# P[s][a] = (state transition probability, next state, reward, done)\n",
    "P = dict()\n",
    "grid = np.arange(noS).reshape(map_matrix.shape[0:2])\n",
    "it = np.nditer(grid, flags=['multi_index'])\n",
    "\n",
    "while not it.finished:\n",
    "    s = it.iterindex\n",
    "    y, x = it.multi_index\n",
    "    P[s] = dict()\n",
    "    #if (terminal_state(s)):\n",
    "    if (s in goal):  #s in terminal_state:\n",
    "        P[s][UP] = (1.0, s, reward_goal, True)\n",
    "        P[s][RIGHT] = (1.0, s, reward_goal, True)\n",
    "        P[s][DOWN] = (1.0, s, reward_goal, True)\n",
    "        P[s][LEFT] = (1.0, s, reward_goal, True)\n",
    "    else:\n",
    "        ns_up = s if y == 0 else s - MAX_X\n",
    "        ns_right = s if x == (MAX_X - 1) else s + 1\n",
    "        ns_down = s if y == (MAX_Y - 1) else s + MAX_X\n",
    "        ns_left = s if x == 0 else s - 1\n",
    "\n",
    "        if s in goal:\n",
    "            rw = reward_goal\n",
    "        elif s in wall:\n",
    "            rw = reward_wall\n",
    "        else:\n",
    "            rw = reward_blank\n",
    "\n",
    "        P[s][UP] = (1.0, ns_up, rw, ns_up in goal)\n",
    "        P[s][RIGHT] = (1.0, ns_right, rw, ns_right in goal)\n",
    "        P[s][DOWN] = (1.0, ns_down, rw, ns_down in goal)\n",
    "        P[s][LEFT] = (1.0, ns_left, rw, ns_left in goal)\n",
    "    it.iternext()\n",
    "\n",
    "print('--> Number of states in grid: ' + str(noS))\n",
    "print('--> Number of action options in each state:' + str(noA))\n",
    "print(\"--> Transition probabilities matrix(prob, next_state, reward, is_done)：\")\n",
    "print(P[0])"
   ]
  },
  {
   "cell_type": "markdown",
   "metadata": {
    "pycharm": {
     "name": "#%% md\n"
    }
   },
   "source": [
    "##### Optimization Approach\n",
    "You need to implement one of them"
   ]
  },
  {
   "cell_type": "markdown",
   "metadata": {},
   "source": [
    "+ Value Iteration"
   ]
  },
  {
   "cell_type": "code",
   "execution_count": 5,
   "metadata": {},
   "outputs": [],
   "source": [
    "def value_iteration(P,theta=0.0001, discount_factor=1.0):\n",
    "    \"\"\"\n",
    "    Value iteration\n",
    "\n",
    "    :param theta: threshold to stop iteration\n",
    "    :param discount_factor: the same as discount factor in formula\n",
    "    :return: a policy and a state-value matrix V\n",
    "    \"\"\"\n",
    "\n",
    "    V = np.zeros(noS)\n",
    "    step = 0\n",
    "    while True:\n",
    "        # delta = 0\n",
    "        # for s in range(noS):\n",
    "        #     v = V[s]\n",
    "        #     actions = np.zeros(noA)\n",
    "        #     for a in range(noA):\n",
    "        #         for prob, next_state, reward, done in P[s][a]:\n",
    "        #             actions[a] += prob * (reward + discount_factor * V[next_state])\n",
    "        #     V[s] = np.max(actions)\n",
    "        #     delta = max(delta, np.abs(v - V[s]))\n",
    "        # if delta < theta:\n",
    "        #     break\n",
    "        \n",
    "        # TODO: finish value iteration\n",
    "        # for s in noS:\n",
    "        #     v = V[s]\n",
    "        #     V[s] = max([sum([p * (r + discount_factor * V[s_]) for p, s_, r, _ in P[s][a]]) for a in noA])\n",
    "        #     step += 1\n",
    "        # if step % 100 == 0:\n",
    "        #     print(\"iteration: %d\" % step)\n",
    "        # if np.sum(np.fabs(v - V)) <= theta:\n",
    "        #     print(\"iteration: %d\" % step)      \n",
    "        #     break\n",
    "        Q = np.zeros((noS, noA))\n",
    "        for s in range(noS):\n",
    "            for a in range(noA):\n",
    "                y = s // MAX_X\n",
    "                x = s % MAX_X\n",
    "                \n",
    "                # print(x, y)\n",
    "                \n",
    "                ns = 0\n",
    "                if a == UP:\n",
    "                    ns = s if y == 0 else s - MAX_X\n",
    "                if a == RIGHT:\n",
    "                    ns = s if x == (MAX_X - 1) else s + 1\n",
    "                if a == DOWN:\n",
    "                    ns = s if y == (MAX_Y - 1) else s + MAX_X\n",
    "                if a == LEFT:\n",
    "                    ns = s if x == 0 else s - 1\n",
    "                \n",
    "                Q[s, a] = 1 * (P[s][a][2] + V[ns])  # P_s,a,2 = reward\n",
    "        \n",
    "        new_V = np.max(Q, axis=1).reshape(-1)\n",
    "        converge = True\n",
    "        for (v1, v2) in zip(new_V, V):\n",
    "            if abs(v1 - v2) > theta:\n",
    "                converge = False\n",
    "        if converge:\n",
    "            break\n",
    "        V = new_V\n",
    "\n",
    "    # TODO: find the best policy according to V\n",
    "    # Create a deterministic policy using the optimal value function\n",
    "    # policy[s, a] means the probability of taking action a under state s, in this case, they are one-hot\n",
    "    policy = np.zeros([noS, noA])\n",
    "    for s in range(noS):\n",
    "        y = s // MAX_X\n",
    "        x = s % MAX_X\n",
    "        \n",
    "        na = -1  # next action\n",
    "        mv = -1e9  # max value\n",
    "        if y != 0:\n",
    "            if V[s - MAX_X] > mv:\n",
    "                mv = V[s - MAX_X]\n",
    "                na = UP\n",
    "        if y != MAX_Y - 1:\n",
    "            if V[s + MAX_X] > mv:\n",
    "                mv = V[s + MAX_X]\n",
    "                na = DOWN\n",
    "        if x != 0:\n",
    "            if V[s - 1] > mv:\n",
    "                mv = V[s - 1]\n",
    "                na = LEFT\n",
    "        if x != MAX_X - 1:\n",
    "            if V[s + 1] > mv:\n",
    "                mv = V[s + 1]\n",
    "                na = RIGHT\n",
    "        \n",
    "        policy[s, na] = 1\n",
    "        \n",
    "        # actions = np.zeros(noA)\n",
    "        # for a in range(noA):\n",
    "        #     for prob, next_state, reward, done in P[s][a]:\n",
    "        #         actions[a] += prob * (reward + discount_factor * V[next_state])\n",
    "        # best_action = np.argmax(actions)\n",
    "        # policy[s][best_action] = 1.0\n",
    "    \n",
    "    # policy = np.zeros([noS, noA])\n",
    "    # for s in range(noS):\n",
    "    #     policy[s, np.argmax([sum([p * (r + discount_factor * V[s_]) for p, s_, r, _ in P[s][a]]) for a in noA])] = 1.0\n",
    "        \n",
    "    return policy, V"
   ]
  },
  {
   "cell_type": "markdown",
   "metadata": {
    "pycharm": {
     "name": "#%% md\n"
    }
   },
   "source": [
    "+   Policy Iteration"
   ]
  },
  {
   "cell_type": "code",
   "execution_count": 15,
   "metadata": {
    "pycharm": {
     "name": "#%%\n"
    }
   },
   "outputs": [],
   "source": [
    "from tqdm import tqdm\n",
    "\n",
    "def policy_eval(policy_matrix, P_matrix, discount_factor=1.0, theta=0.00001):\n",
    "    # Start with a random (all 0) value function\n",
    "    V = np.zeros(noS)\n",
    "    while True:\n",
    "        delta = 0\n",
    "        # TODO: finish evaluation part\n",
    "        # for s in range(noS):\n",
    "        #     v = V[s]\n",
    "        #     action = np.argmax(policy_matrix[s])\n",
    "        #     V[s] = sum(prob * (reward + discount_factor * V[next_state]) for prob, next_state, reward, _ in P[s][action])\n",
    "        #     delta = max(delta, np.abs(v - V[s]))\n",
    "            \n",
    "        # for s in range(noS):\n",
    "        #     v = V[s]\n",
    "        #     for a in range(noA):\n",
    "        #         V[s] += policy_matrix[s][a] * sum([p * (r + discount_factor * V[s_]) for p, s_, r, _ in P_matrix[s][a]])\n",
    "        #     delta = max(delta, np.abs(v - V[s]))\n",
    "        \n",
    "        # Stop evaluating once our value function change is below a threshold         \n",
    "        if delta < theta:\n",
    "            break\n",
    "    return np.array(V)\n",
    "\n",
    "\n",
    "def policy_improvement(P_matrix, policy_eval_fn=policy_eval, discount_factor=1.0):\n",
    "    def one_step_lookahead(state, V_matrix):\n",
    "        # V_matrix is a vector, V_matrix[s] is the value of state s\n",
    "        # TODO: calculate next states' values after taking different actions\n",
    "        A = np.zeros(noA)\n",
    "        # for a in range(noA):\n",
    "        #     for prob, next_state, reward, _ in P[state][a]:\n",
    "        #         A[a] += prob * (reward + discount_factor * V_matrix[next_state])\n",
    "        return A\n",
    "\n",
    "    # Start with a random policy\n",
    "    policy_now = np.ones([noS, noA]) / noA\n",
    "\n",
    "    while True:\n",
    "        # Evaluate the current policy\n",
    "        V = policy_eval_fn(policy_now, P_matrix, discount_factor)\n",
    "\n",
    "        # Will be set to false if we make any changes to the policy\n",
    "        policy_stable = True\n",
    "\n",
    "        # For each state...\n",
    "        for s in tqdm(range(noS)):\n",
    "            # chosen_a = np.argmax(policy_now[s])\n",
    "            # action_values = one_step_lookahead(s, V)\n",
    "            # best_a = np.argmax(action_values)\n",
    "            # if chosen_a != best_a:\n",
    "            #     policy_stable = False\n",
    "            # policy_now[s] = np.eye(noA)[best_a]\n",
    "            \n",
    "            # # TODO: The best action we would take under the current policy\n",
    "            # chosen_a = np.argmax(policy_now[s])\n",
    "\n",
    "            # # TODO: Find the best action by one-step lookahead\n",
    "            # # Ties are resolved arbitarily\n",
    "            # action_values = one_step_lookahead(s, V)\n",
    "\n",
    "            # # TODO: Greedily update the policy\n",
    "            # best_a = np.argmax(action_values)\n",
    "            # print(\"best_a: \", best_a)\n",
    "            # if chosen_a != best_a:\n",
    "            #     policy_stable = False\n",
    "            # policy_now[s] = np.eye(noA)[best_a]\n",
    "            pass\n",
    "\n",
    "        # If the policy is stable we've found an optimal policy. Return it\n",
    "        if policy_stable:\n",
    "            print(\"policy stable\")\n",
    "            return policy_now, V"
   ]
  },
  {
   "cell_type": "code",
   "execution_count": 21,
   "metadata": {
    "tags": []
   },
   "outputs": [],
   "source": [
    "iteration = value_iteration\n",
    "policy, v = iteration(P)"
   ]
  },
  {
   "cell_type": "markdown",
   "metadata": {
    "pycharm": {
     "name": "#%% md\n"
    }
   },
   "source": [
    "#### Display"
   ]
  },
  {
   "cell_type": "code",
   "execution_count": 22,
   "metadata": {
    "pycharm": {
     "name": "#%%\n"
    }
   },
   "outputs": [],
   "source": [
    "# display modules\n",
    "def display_policy(policy_map: np.ndarray, des=((15, 16), (15, 15), (16, 15), (16, 16))):\n",
    "    \"\"\"\n",
    "    Display policy in a vector field\n",
    "    :param des: destination, for dying quiver\n",
    "    :param policy_map: your policy map where each position is a number standing for an action\n",
    "    :return:\n",
    "    \"\"\"\n",
    "\n",
    "    def phrase_action(action: int):\n",
    "        if action == 0:\n",
    "            return 0, 1\n",
    "        if action == 1:\n",
    "            return 1, 0\n",
    "        if action == 2:\n",
    "            return 0, -1\n",
    "        if action == 3:\n",
    "            return -1, 0\n",
    "        return 0, 0\n",
    "\n",
    "    des = np.asarray(np.copy(des))\n",
    "\n",
    "    X, Y = policy_map.shape\n",
    "    grid_X = np.arange(X).reshape(-1, 1).repeat(Y, axis=1)\n",
    "    grid_Y = np.arange(Y).reshape(1, -1).repeat(X, axis=0)\n",
    "    direct_X, direct_Y = [], []\n",
    "    C = []\n",
    "    for x_row in list(zip(grid_X, grid_Y)):\n",
    "        for p in tuple(zip(x_row[0], x_row[1])):\n",
    "            direct_x, direct_y = phrase_action(policy_map[p[0], p[1]])\n",
    "            direct_X.append(direct_x)\n",
    "            direct_Y.append(direct_y)\n",
    "            if des is not None:\n",
    "                C.append(np.sum(np.abs(p - des)))\n",
    "    fig = plt.figure(figsize=(8, 8))\n",
    "    ax = plt.gca()\n",
    "    ax.xaxis.set_ticks_position('top')  #将X坐标轴移到上面\n",
    "    ax.invert_yaxis()  #反转Y坐标轴\n",
    "    plt.quiver(grid_X, grid_Y, direct_X, direct_Y, 0 if len(C) == 0 else C)\n",
    "    plt.show()\n",
    "\n",
    "\n",
    "def display_v(V: np.ndarray, map_m: np.ndarray):\n",
    "    \"\"\"\n",
    "    display state value in heat map\n",
    "    :param map_m: 2D map matrix corresponding to v\n",
    "    :param V: state value, 1D\n",
    "    :return:\n",
    "    \"\"\"\n",
    "\n",
    "    heatmap = V.reshape(map_m.shape[0:2])\n",
    "    plt.imshow(heatmap, cmap=plt.cm.autumn)\n",
    "    plt.colorbar()\n",
    "    plt.show()\n",
    "\n",
    "\n",
    "def display_path(policy_map, map_m, departure, des, max_iter=100):\n",
    "    \"\"\"\n",
    "\n",
    "    :param policy_map: policy\n",
    "    :param map_m: map\n",
    "    :param departure: start point\n",
    "    :param des: destination\n",
    "    :return:\n",
    "    \"\"\"\n",
    "    map_m = np.copy(map_m)\n",
    "\n",
    "    now_y, now_x = departure\n",
    "    iter_n = 0\n",
    "    while now_y * MAX_X + now_x not in des:\n",
    "        if iter_n > max_iter:\n",
    "            break\n",
    "        map_matrix[now_y, now_x, :] = np.array([151, 255, 255])\n",
    "        if UP == policy_map[now_y, now_x]:\n",
    "            now_y = now_y - 1\n",
    "        elif RIGHT == policy_map[now_y, now_x]:\n",
    "            now_x = now_x + 1\n",
    "        elif DOWN == policy_map[now_y, now_x]:\n",
    "            now_y = now_y + 1\n",
    "        elif LEFT == policy_map[now_y, now_x]:\n",
    "            now_x = now_x - 1\n",
    "        now_y = (now_y + MAX_Y) % MAX_Y\n",
    "        now_x = (now_x + MAX_X) % MAX_X\n",
    "        map_m[now_y, now_x, :] = 120\n",
    "        plt.imshow(map_m)\n",
    "        plt.show()\n",
    "        display.clear_output(wait=True)\n",
    "\n",
    "        iter_n += 1"
   ]
  },
  {
   "cell_type": "code",
   "execution_count": 23,
   "metadata": {},
   "outputs": [
    {
     "name": "stdout",
     "output_type": "stream",
     "text": [
      "Grid Policy (0=up, 1=right, 2=down, 3=left):\n"
     ]
    },
    {
     "data": {
      "image/png": "[encoded data removed]",
      "text/plain": [
       "<Figure size 800x800 with 1 Axes>"
      ]
     },
     "metadata": {},
     "output_type": "display_data"
    }
   ],
   "source": [
    "print(\"Grid Policy (0=up, 1=right, 2=down, 3=left):\")\n",
    "grid_policy = np.reshape(np.argmax(policy, axis=1), map_matrix.shape[0:2])\n",
    "display_policy(grid_policy.T)"
   ]
  },
  {
   "cell_type": "code",
   "execution_count": 24,
   "metadata": {},
   "outputs": [
    {
     "name": "stdout",
     "output_type": "stream",
     "text": [
      "State value:\n"
     ]
    },
    {
     "data": {
      "image/png": "[encoded data removed]",
      "text/plain": [
       "<Figure size 640x480 with 2 Axes>"
      ]
     },
     "metadata": {},
     "output_type": "display_data"
    }
   ],
   "source": [
    "print(\"State value:\")\n",
    "display_v(v, map_matrix)"
   ]
  },
  {
   "cell_type": "code",
   "execution_count": 26,
   "metadata": {},
   "outputs": [],
   "source": [
    "import IPython.display as display"
   ]
  },
  {
   "cell_type": "code",
   "execution_count": 27,
   "metadata": {
    "pycharm": {
     "name": "#%%\n"
    }
   },
   "outputs": [
    {
     "name": "stderr",
     "output_type": "stream",
     "text": [
      "Clipping input data to the valid range for imshow with RGB data ([0..1] for floats or [0..255] for integers).\n"
     ]
    },
    {
     "data": {
      "image/png": "[encoded data removed]",
      "text/plain": [
       "<Figure size 640x480 with 1 Axes>"
      ]
     },
     "metadata": {},
     "output_type": "display_data"
    }
   ],
   "source": [
    "%matplotlib inline\n",
    "display_path(grid_policy, map_matrix, start, goal)"
   ]
  }
 ],
 "metadata": {
  "anaconda-cloud": {},
  "kernelspec": {
   "display_name": "Python 3 (ipykernel)",
   "language": "python",
   "name": "python3"
  },
  "language_info": {
   "codemirror_mode": {
    "name": "ipython",
    "version": 3
   },
   "file_extension": ".py",
   "mimetype": "text/x-python",
   "name": "python",
   "nbconvert_exporter": "python",
   "pygments_lexer": "ipython3",
   "version": "3.12.0"
  },
  "toc": {
   "base_numbering": 1,
   "nav_menu": {},
   "number_sections": true,
   "sideBar": true,
   "skip_h1_title": true,
   "title_cell": "Table of Contents",
   "title_sidebar": "Contents",
   "toc_cell": true,
   "toc_position": {},
   "toc_section_display": true,
   "toc_window_display": true
  },
  "vscode": {
   "interpreter": {
    "hash": "773bfaa0e82744962f3138a2d7b2f007250d49f330da41a556809ccbcf17bfbe"
   }
  }
 },
 "nbformat": 4,
 "nbformat_minor": 4
}
